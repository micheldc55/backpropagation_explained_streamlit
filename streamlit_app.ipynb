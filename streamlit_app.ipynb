{
 "cells": [
  {
   "cell_type": "code",
   "execution_count": 1,
   "metadata": {},
   "outputs": [
    {
     "name": "stdout",
     "output_type": "stream",
     "text": [
      "Requirement already satisfied: streamlit in c:\\users\\davidovm\\anaconda3\\envs\\tt_env\\lib\\site-packages (1.8.1)\n",
      "Requirement already satisfied: torch in c:\\users\\davidovm\\anaconda3\\envs\\tt_env\\lib\\site-packages (1.13.1)\n",
      "Collecting micrograd\n",
      "  Downloading micrograd-0.1.0-py3-none-any.whl (4.9 kB)\n",
      "Requirement already satisfied: tzlocal in c:\\users\\davidovm\\anaconda3\\envs\\tt_env\\lib\\site-packages (from streamlit) (4.1)\n",
      "Requirement already satisfied: watchdog in c:\\users\\davidovm\\anaconda3\\envs\\tt_env\\lib\\site-packages (from streamlit) (2.1.7)\n",
      "Requirement already satisfied: pandas>=0.21.0 in c:\\users\\davidovm\\anaconda3\\envs\\tt_env\\lib\\site-packages (from streamlit) (1.4.1)\n",
      "Requirement already satisfied: altair>=3.2.0 in c:\\users\\davidovm\\anaconda3\\envs\\tt_env\\lib\\site-packages (from streamlit) (4.2.0)\n",
      "Requirement already satisfied: packaging in c:\\users\\davidovm\\anaconda3\\envs\\tt_env\\lib\\site-packages (from streamlit) (21.3)\n",
      "Requirement already satisfied: python-dateutil in c:\\users\\davidovm\\anaconda3\\envs\\tt_env\\lib\\site-packages (from streamlit) (2.8.2)\n",
      "Requirement already satisfied: validators in c:\\users\\davidovm\\anaconda3\\envs\\tt_env\\lib\\site-packages (from streamlit) (0.18.2)\n",
      "Requirement already satisfied: cachetools>=4.0 in c:\\users\\davidovm\\anaconda3\\envs\\tt_env\\lib\\site-packages (from streamlit) (5.0.0)\n",
      "Requirement already satisfied: pillow>=6.2.0 in c:\\users\\davidovm\\anaconda3\\envs\\tt_env\\lib\\site-packages (from streamlit) (9.0.1)\n",
      "Requirement already satisfied: requests in c:\\users\\davidovm\\anaconda3\\envs\\tt_env\\lib\\site-packages (from streamlit) (2.27.1)\n",
      "Requirement already satisfied: pyarrow in c:\\users\\davidovm\\anaconda3\\envs\\tt_env\\lib\\site-packages (from streamlit) (7.0.0)\n",
      "Requirement already satisfied: protobuf!=3.11,>=3.6.0 in c:\\users\\davidovm\\anaconda3\\envs\\tt_env\\lib\\site-packages (from streamlit) (3.19.4)\n",
      "Requirement already satisfied: numpy in c:\\users\\davidovm\\anaconda3\\envs\\tt_env\\lib\\site-packages (from streamlit) (1.22.3)\n",
      "Requirement already satisfied: gitpython!=3.1.19 in c:\\users\\davidovm\\anaconda3\\envs\\tt_env\\lib\\site-packages (from streamlit) (3.1.27)\n",
      "Requirement already satisfied: blinker in c:\\users\\davidovm\\anaconda3\\envs\\tt_env\\lib\\site-packages (from streamlit) (1.4)\n",
      "Requirement already satisfied: pydeck>=0.1.dev5 in c:\\users\\davidovm\\anaconda3\\envs\\tt_env\\lib\\site-packages (from streamlit) (0.7.1)\n",
      "Requirement already satisfied: click<8.1,>=7.0 in c:\\users\\davidovm\\anaconda3\\envs\\tt_env\\lib\\site-packages (from streamlit) (8.0.4)\n",
      "Requirement already satisfied: importlib-metadata>=1.4 in c:\\users\\davidovm\\anaconda3\\envs\\tt_env\\lib\\site-packages (from streamlit) (4.11.3)\n",
      "Requirement already satisfied: semver in c:\\users\\davidovm\\anaconda3\\envs\\tt_env\\lib\\site-packages (from streamlit) (2.13.0)\n",
      "Requirement already satisfied: pympler>=0.9 in c:\\users\\davidovm\\anaconda3\\envs\\tt_env\\lib\\site-packages (from streamlit) (1.0.1)\n",
      "Requirement already satisfied: tornado>=5.0 in c:\\users\\davidovm\\anaconda3\\envs\\tt_env\\lib\\site-packages (from streamlit) (6.1)\n",
      "Requirement already satisfied: toml in c:\\users\\davidovm\\anaconda3\\envs\\tt_env\\lib\\site-packages (from streamlit) (0.10.2)\n",
      "Requirement already satisfied: attrs in c:\\users\\davidovm\\anaconda3\\envs\\tt_env\\lib\\site-packages (from streamlit) (21.4.0)\n",
      "Requirement already satisfied: typing-extensions in c:\\users\\davidovm\\anaconda3\\envs\\tt_env\\lib\\site-packages (from torch) (4.4.0)\n",
      "Requirement already satisfied: entrypoints in c:\\users\\davidovm\\anaconda3\\envs\\tt_env\\lib\\site-packages (from altair>=3.2.0->streamlit) (0.4)\n",
      "Requirement already satisfied: toolz in c:\\users\\davidovm\\anaconda3\\envs\\tt_env\\lib\\site-packages (from altair>=3.2.0->streamlit) (0.11.2)\n",
      "Requirement already satisfied: jsonschema>=3.0 in c:\\users\\davidovm\\anaconda3\\envs\\tt_env\\lib\\site-packages (from altair>=3.2.0->streamlit) (4.4.0)\n",
      "Requirement already satisfied: jinja2 in c:\\users\\davidovm\\anaconda3\\envs\\tt_env\\lib\\site-packages (from altair>=3.2.0->streamlit) (3.1.1)\n",
      "Requirement already satisfied: colorama in c:\\users\\davidovm\\anaconda3\\envs\\tt_env\\lib\\site-packages (from click<8.1,>=7.0->streamlit) (0.4.4)\n",
      "Requirement already satisfied: gitdb<5,>=4.0.1 in c:\\users\\davidovm\\anaconda3\\envs\\tt_env\\lib\\site-packages (from gitpython!=3.1.19->streamlit) (4.0.9)\n",
      "Requirement already satisfied: smmap<6,>=3.0.1 in c:\\users\\davidovm\\anaconda3\\envs\\tt_env\\lib\\site-packages (from gitdb<5,>=4.0.1->gitpython!=3.1.19->streamlit) (5.0.0)\n",
      "Requirement already satisfied: zipp>=0.5 in c:\\users\\davidovm\\anaconda3\\envs\\tt_env\\lib\\site-packages (from importlib-metadata>=1.4->streamlit) (3.7.0)\n",
      "Requirement already satisfied: pyrsistent!=0.17.0,!=0.17.1,!=0.17.2,>=0.14.0 in c:\\users\\davidovm\\anaconda3\\envs\\tt_env\\lib\\site-packages (from jsonschema>=3.0->altair>=3.2.0->streamlit) (0.18.1)\n",
      "Requirement already satisfied: pytz>=2020.1 in c:\\users\\davidovm\\anaconda3\\envs\\tt_env\\lib\\site-packages (from pandas>=0.21.0->streamlit) (2022.1)\n",
      "Requirement already satisfied: ipykernel>=5.1.2 in c:\\users\\davidovm\\anaconda3\\envs\\tt_env\\lib\\site-packages (from pydeck>=0.1.dev5->streamlit) (6.10.0)\n",
      "Requirement already satisfied: ipywidgets>=7.0.0 in c:\\users\\davidovm\\anaconda3\\envs\\tt_env\\lib\\site-packages (from pydeck>=0.1.dev5->streamlit) (7.7.0)\n",
      "Requirement already satisfied: traitlets>=4.3.2 in c:\\users\\davidovm\\anaconda3\\envs\\tt_env\\lib\\site-packages (from pydeck>=0.1.dev5->streamlit) (5.1.1)\n",
      "Requirement already satisfied: nest-asyncio in c:\\users\\davidovm\\anaconda3\\envs\\tt_env\\lib\\site-packages (from ipykernel>=5.1.2->pydeck>=0.1.dev5->streamlit) (1.5.4)\n",
      "Requirement already satisfied: jupyter-client<8.0 in c:\\users\\davidovm\\anaconda3\\envs\\tt_env\\lib\\site-packages (from ipykernel>=5.1.2->pydeck>=0.1.dev5->streamlit) (7.2.0)\n",
      "Requirement already satisfied: matplotlib-inline<0.2.0,>=0.1.0 in c:\\users\\davidovm\\anaconda3\\envs\\tt_env\\lib\\site-packages (from ipykernel>=5.1.2->pydeck>=0.1.dev5->streamlit) (0.1.3)\n",
      "Requirement already satisfied: psutil in c:\\users\\davidovm\\anaconda3\\envs\\tt_env\\lib\\site-packages (from ipykernel>=5.1.2->pydeck>=0.1.dev5->streamlit) (5.9.0)\n",
      "Requirement already satisfied: debugpy<2.0,>=1.0.0 in c:\\users\\davidovm\\anaconda3\\envs\\tt_env\\lib\\site-packages (from ipykernel>=5.1.2->pydeck>=0.1.dev5->streamlit) (1.5.1)\n",
      "Requirement already satisfied: ipython>=7.23.1 in c:\\users\\davidovm\\anaconda3\\envs\\tt_env\\lib\\site-packages (from ipykernel>=5.1.2->pydeck>=0.1.dev5->streamlit) (8.2.0)\n",
      "Requirement already satisfied: stack-data in c:\\users\\davidovm\\anaconda3\\envs\\tt_env\\lib\\site-packages (from ipython>=7.23.1->ipykernel>=5.1.2->pydeck>=0.1.dev5->streamlit) (0.2.0)\n",
      "Requirement already satisfied: decorator in c:\\users\\davidovm\\anaconda3\\envs\\tt_env\\lib\\site-packages (from ipython>=7.23.1->ipykernel>=5.1.2->pydeck>=0.1.dev5->streamlit) (5.1.1)\n",
      "Requirement already satisfied: prompt-toolkit!=3.0.0,!=3.0.1,<3.1.0,>=2.0.0 in c:\\users\\davidovm\\anaconda3\\envs\\tt_env\\lib\\site-packages (from ipython>=7.23.1->ipykernel>=5.1.2->pydeck>=0.1.dev5->streamlit) (3.0.27)\n",
      "Requirement already satisfied: jedi>=0.16 in c:\\users\\davidovm\\anaconda3\\envs\\tt_env\\lib\\site-packages (from ipython>=7.23.1->ipykernel>=5.1.2->pydeck>=0.1.dev5->streamlit) (0.18.1)\n",
      "Requirement already satisfied: pygments>=2.4.0 in c:\\users\\davidovm\\anaconda3\\envs\\tt_env\\lib\\site-packages (from ipython>=7.23.1->ipykernel>=5.1.2->pydeck>=0.1.dev5->streamlit) (2.11.2)\n",
      "Requirement already satisfied: backcall in c:\\users\\davidovm\\anaconda3\\envs\\tt_env\\lib\\site-packages (from ipython>=7.23.1->ipykernel>=5.1.2->pydeck>=0.1.dev5->streamlit) (0.2.0)\n",
      "Requirement already satisfied: pickleshare in c:\\users\\davidovm\\anaconda3\\envs\\tt_env\\lib\\site-packages (from ipython>=7.23.1->ipykernel>=5.1.2->pydeck>=0.1.dev5->streamlit) (0.7.5)\n",
      "Requirement already satisfied: setuptools>=18.5 in c:\\users\\davidovm\\anaconda3\\envs\\tt_env\\lib\\site-packages (from ipython>=7.23.1->ipykernel>=5.1.2->pydeck>=0.1.dev5->streamlit) (58.0.4)\n",
      "Requirement already satisfied: jupyterlab-widgets>=1.0.0 in c:\\users\\davidovm\\anaconda3\\envs\\tt_env\\lib\\site-packages (from ipywidgets>=7.0.0->pydeck>=0.1.dev5->streamlit) (1.1.0)\n",
      "Requirement already satisfied: nbformat>=4.2.0 in c:\\users\\davidovm\\anaconda3\\envs\\tt_env\\lib\\site-packages (from ipywidgets>=7.0.0->pydeck>=0.1.dev5->streamlit) (5.2.0)\n",
      "Requirement already satisfied: widgetsnbextension~=3.6.0 in c:\\users\\davidovm\\anaconda3\\envs\\tt_env\\lib\\site-packages (from ipywidgets>=7.0.0->pydeck>=0.1.dev5->streamlit) (3.6.0)\n",
      "Requirement already satisfied: ipython-genutils~=0.2.0 in c:\\users\\davidovm\\anaconda3\\envs\\tt_env\\lib\\site-packages (from ipywidgets>=7.0.0->pydeck>=0.1.dev5->streamlit) (0.2.0)\n",
      "Requirement already satisfied: parso<0.9.0,>=0.8.0 in c:\\users\\davidovm\\anaconda3\\envs\\tt_env\\lib\\site-packages (from jedi>=0.16->ipython>=7.23.1->ipykernel>=5.1.2->pydeck>=0.1.dev5->streamlit) (0.8.3)\n",
      "Requirement already satisfied: MarkupSafe>=2.0 in c:\\users\\davidovm\\anaconda3\\envs\\tt_env\\lib\\site-packages (from jinja2->altair>=3.2.0->streamlit) (2.1.1)\n",
      "Requirement already satisfied: pyzmq>=17 in c:\\users\\davidovm\\anaconda3\\envs\\tt_env\\lib\\site-packages (from jupyter-client<8.0->ipykernel>=5.1.2->pydeck>=0.1.dev5->streamlit) (22.3.0)\n",
      "Requirement already satisfied: jupyter-core>=4.9.2 in c:\\users\\davidovm\\anaconda3\\envs\\tt_env\\lib\\site-packages (from jupyter-client<8.0->ipykernel>=5.1.2->pydeck>=0.1.dev5->streamlit) (4.9.2)\n",
      "Requirement already satisfied: pywin32>=1.0 in c:\\users\\davidovm\\anaconda3\\envs\\tt_env\\lib\\site-packages (from jupyter-core>=4.9.2->jupyter-client<8.0->ipykernel>=5.1.2->pydeck>=0.1.dev5->streamlit) (303)\n",
      "Requirement already satisfied: wcwidth in c:\\users\\davidovm\\anaconda3\\envs\\tt_env\\lib\\site-packages (from prompt-toolkit!=3.0.0,!=3.0.1,<3.1.0,>=2.0.0->ipython>=7.23.1->ipykernel>=5.1.2->pydeck>=0.1.dev5->streamlit) (0.2.5)\n",
      "Requirement already satisfied: six>=1.5 in c:\\users\\davidovm\\anaconda3\\envs\\tt_env\\lib\\site-packages (from python-dateutil->streamlit) (1.16.0)\n",
      "Requirement already satisfied: notebook>=4.4.1 in c:\\users\\davidovm\\anaconda3\\envs\\tt_env\\lib\\site-packages (from widgetsnbextension~=3.6.0->ipywidgets>=7.0.0->pydeck>=0.1.dev5->streamlit) (6.4.10)\n",
      "Requirement already satisfied: prometheus-client in c:\\users\\davidovm\\anaconda3\\envs\\tt_env\\lib\\site-packages (from notebook>=4.4.1->widgetsnbextension~=3.6.0->ipywidgets>=7.0.0->pydeck>=0.1.dev5->streamlit) (0.13.1)\n",
      "Requirement already satisfied: Send2Trash>=1.8.0 in c:\\users\\davidovm\\anaconda3\\envs\\tt_env\\lib\\site-packages (from notebook>=4.4.1->widgetsnbextension~=3.6.0->ipywidgets>=7.0.0->pydeck>=0.1.dev5->streamlit) (1.8.0)\n",
      "Requirement already satisfied: argon2-cffi in c:\\users\\davidovm\\anaconda3\\envs\\tt_env\\lib\\site-packages (from notebook>=4.4.1->widgetsnbextension~=3.6.0->ipywidgets>=7.0.0->pydeck>=0.1.dev5->streamlit) (21.3.0)\n",
      "Requirement already satisfied: nbconvert>=5 in c:\\users\\davidovm\\anaconda3\\envs\\tt_env\\lib\\site-packages (from notebook>=4.4.1->widgetsnbextension~=3.6.0->ipywidgets>=7.0.0->pydeck>=0.1.dev5->streamlit) (6.4.5)\n",
      "Requirement already satisfied: terminado>=0.8.3 in c:\\users\\davidovm\\anaconda3\\envs\\tt_env\\lib\\site-packages (from notebook>=4.4.1->widgetsnbextension~=3.6.0->ipywidgets>=7.0.0->pydeck>=0.1.dev5->streamlit) (0.13.3)\n",
      "Requirement already satisfied: beautifulsoup4 in c:\\users\\davidovm\\anaconda3\\envs\\tt_env\\lib\\site-packages (from nbconvert>=5->notebook>=4.4.1->widgetsnbextension~=3.6.0->ipywidgets>=7.0.0->pydeck>=0.1.dev5->streamlit) (4.10.0)\n",
      "Requirement already satisfied: defusedxml in c:\\users\\davidovm\\anaconda3\\envs\\tt_env\\lib\\site-packages (from nbconvert>=5->notebook>=4.4.1->widgetsnbextension~=3.6.0->ipywidgets>=7.0.0->pydeck>=0.1.dev5->streamlit) (0.7.1)\n",
      "Requirement already satisfied: nbclient<0.6.0,>=0.5.0 in c:\\users\\davidovm\\anaconda3\\envs\\tt_env\\lib\\site-packages (from nbconvert>=5->notebook>=4.4.1->widgetsnbextension~=3.6.0->ipywidgets>=7.0.0->pydeck>=0.1.dev5->streamlit) (0.5.13)\n",
      "Requirement already satisfied: mistune<2,>=0.8.1 in c:\\users\\davidovm\\anaconda3\\envs\\tt_env\\lib\\site-packages (from nbconvert>=5->notebook>=4.4.1->widgetsnbextension~=3.6.0->ipywidgets>=7.0.0->pydeck>=0.1.dev5->streamlit) (0.8.4)\n",
      "Requirement already satisfied: bleach in c:\\users\\davidovm\\anaconda3\\envs\\tt_env\\lib\\site-packages (from nbconvert>=5->notebook>=4.4.1->widgetsnbextension~=3.6.0->ipywidgets>=7.0.0->pydeck>=0.1.dev5->streamlit) (4.1.0)\n",
      "Requirement already satisfied: pandocfilters>=1.4.1 in c:\\users\\davidovm\\anaconda3\\envs\\tt_env\\lib\\site-packages (from nbconvert>=5->notebook>=4.4.1->widgetsnbextension~=3.6.0->ipywidgets>=7.0.0->pydeck>=0.1.dev5->streamlit) (1.5.0)\n",
      "Requirement already satisfied: testpath in c:\\users\\davidovm\\anaconda3\\envs\\tt_env\\lib\\site-packages (from nbconvert>=5->notebook>=4.4.1->widgetsnbextension~=3.6.0->ipywidgets>=7.0.0->pydeck>=0.1.dev5->streamlit) (0.6.0)\n",
      "Requirement already satisfied: jupyterlab-pygments in c:\\users\\davidovm\\anaconda3\\envs\\tt_env\\lib\\site-packages (from nbconvert>=5->notebook>=4.4.1->widgetsnbextension~=3.6.0->ipywidgets>=7.0.0->pydeck>=0.1.dev5->streamlit) (0.1.2)\n",
      "Requirement already satisfied: pywinpty>=1.1.0 in c:\\users\\davidovm\\anaconda3\\envs\\tt_env\\lib\\site-packages (from terminado>=0.8.3->notebook>=4.4.1->widgetsnbextension~=3.6.0->ipywidgets>=7.0.0->pydeck>=0.1.dev5->streamlit) (2.0.5)\n",
      "Requirement already satisfied: argon2-cffi-bindings in c:\\users\\davidovm\\anaconda3\\envs\\tt_env\\lib\\site-packages (from argon2-cffi->notebook>=4.4.1->widgetsnbextension~=3.6.0->ipywidgets>=7.0.0->pydeck>=0.1.dev5->streamlit) (21.2.0)\n",
      "Requirement already satisfied: cffi>=1.0.1 in c:\\users\\davidovm\\anaconda3\\envs\\tt_env\\lib\\site-packages (from argon2-cffi-bindings->argon2-cffi->notebook>=4.4.1->widgetsnbextension~=3.6.0->ipywidgets>=7.0.0->pydeck>=0.1.dev5->streamlit) (1.15.0)\n",
      "Requirement already satisfied: pycparser in c:\\users\\davidovm\\anaconda3\\envs\\tt_env\\lib\\site-packages (from cffi>=1.0.1->argon2-cffi-bindings->argon2-cffi->notebook>=4.4.1->widgetsnbextension~=3.6.0->ipywidgets>=7.0.0->pydeck>=0.1.dev5->streamlit) (2.21)\n",
      "Requirement already satisfied: soupsieve>1.2 in c:\\users\\davidovm\\anaconda3\\envs\\tt_env\\lib\\site-packages (from beautifulsoup4->nbconvert>=5->notebook>=4.4.1->widgetsnbextension~=3.6.0->ipywidgets>=7.0.0->pydeck>=0.1.dev5->streamlit) (2.3.1)\n",
      "Requirement already satisfied: webencodings in c:\\users\\davidovm\\anaconda3\\envs\\tt_env\\lib\\site-packages (from bleach->nbconvert>=5->notebook>=4.4.1->widgetsnbextension~=3.6.0->ipywidgets>=7.0.0->pydeck>=0.1.dev5->streamlit) (0.5.1)\n",
      "Requirement already satisfied: pyparsing!=3.0.5,>=2.0.2 in c:\\users\\davidovm\\anaconda3\\envs\\tt_env\\lib\\site-packages (from packaging->streamlit) (3.0.7)\n",
      "Requirement already satisfied: urllib3<1.27,>=1.21.1 in c:\\users\\davidovm\\anaconda3\\envs\\tt_env\\lib\\site-packages (from requests->streamlit) (1.26.9)\n",
      "Requirement already satisfied: charset-normalizer~=2.0.0 in c:\\users\\davidovm\\anaconda3\\envs\\tt_env\\lib\\site-packages (from requests->streamlit) (2.0.12)\n",
      "Requirement already satisfied: certifi>=2017.4.17 in c:\\users\\davidovm\\anaconda3\\envs\\tt_env\\lib\\site-packages (from requests->streamlit) (2021.10.8)\n",
      "Requirement already satisfied: idna<4,>=2.5 in c:\\users\\davidovm\\anaconda3\\envs\\tt_env\\lib\\site-packages (from requests->streamlit) (3.3)\n",
      "Requirement already satisfied: executing in c:\\users\\davidovm\\anaconda3\\envs\\tt_env\\lib\\site-packages (from stack-data->ipython>=7.23.1->ipykernel>=5.1.2->pydeck>=0.1.dev5->streamlit) (0.8.3)\n",
      "Requirement already satisfied: pure-eval in c:\\users\\davidovm\\anaconda3\\envs\\tt_env\\lib\\site-packages (from stack-data->ipython>=7.23.1->ipykernel>=5.1.2->pydeck>=0.1.dev5->streamlit) (0.2.2)\n",
      "Requirement already satisfied: asttokens in c:\\users\\davidovm\\anaconda3\\envs\\tt_env\\lib\\site-packages (from stack-data->ipython>=7.23.1->ipykernel>=5.1.2->pydeck>=0.1.dev5->streamlit) (2.0.5)\n",
      "Requirement already satisfied: tzdata in c:\\users\\davidovm\\anaconda3\\envs\\tt_env\\lib\\site-packages (from tzlocal->streamlit) (2022.1)\n",
      "Requirement already satisfied: pytz-deprecation-shim in c:\\users\\davidovm\\anaconda3\\envs\\tt_env\\lib\\site-packages (from tzlocal->streamlit) (0.1.0.post0)\n",
      "Installing collected packages: micrograd\n",
      "Successfully installed micrograd-0.1.0\n"
     ]
    }
   ],
   "source": [
    "! pip install streamlit torch micrograd"
   ]
  },
  {
   "cell_type": "code",
   "execution_count": null,
   "metadata": {},
   "outputs": [],
   "source": []
  },
  {
   "attachments": {},
   "cell_type": "markdown",
   "metadata": {},
   "source": [
    "If you have studied Deep Learning or are interested in the subject, you've probably come across the terms backpropagation and gradient descent. If you've been paying attention to the scene you probably even heard more mathematical terms like matrix multiplications and the Chain Rule. We've all heard about them at some point during our journey, but do we understand how they are used in Neural Networks?"
   ]
  },
  {
   "attachments": {},
   "cell_type": "markdown",
   "metadata": {},
   "source": [
    "In this short introduction to backpropagation for Deep Learning applications, we will mostly follow Andrej Karpathy's video on the topic, and add a few extra comments here and there that give my own perspective on the subject or help clarify something that I didn't understand when going through his material. To be clear, everyone looking at this dashboard should definitely go and check out his content, as he is both the developer of the micrograd library, and the person who gave me the idea to build this dashboard."
   ]
  },
  {
   "cell_type": "code",
   "execution_count": 2,
   "metadata": {},
   "outputs": [],
   "source": [
    "import streamlit\n",
    "import numpy as np\n",
    "import matplotlib.pyplot as plt\n",
    "from micrograd.engine import Value"
   ]
  },
  {
   "cell_type": "code",
   "execution_count": 3,
   "metadata": {},
   "outputs": [
    {
     "data": {
      "text/plain": [
       "Value(data=-1.0, grad=0)"
      ]
     },
     "execution_count": 3,
     "metadata": {},
     "output_type": "execute_result"
    }
   ],
   "source": [
    "a = Value(2.0)\n",
    "b = Value(-4.0)\n",
    "c = Value(7)\n",
    "\n",
    "a*b + c"
   ]
  },
  {
   "cell_type": "code",
   "execution_count": 11,
   "metadata": {},
   "outputs": [],
   "source": [
    "def base_function(x: float) -> float:\n",
    "    return 3 * x**2 + 6*x - 1"
   ]
  },
  {
   "cell_type": "code",
   "execution_count": 12,
   "metadata": {},
   "outputs": [
    {
     "data": {
      "text/plain": [
       "(8, -1, 8)"
      ]
     },
     "execution_count": 12,
     "metadata": {},
     "output_type": "execute_result"
    }
   ],
   "source": [
    "base_function(1), base_function(0), base_function(-3)"
   ]
  },
  {
   "cell_type": "code",
   "execution_count": 13,
   "metadata": {},
   "outputs": [],
   "source": [
    "def derivative_base_function(x: float) -> float:\n",
    "    return 6 * x + 6"
   ]
  },
  {
   "cell_type": "code",
   "execution_count": 15,
   "metadata": {},
   "outputs": [
    {
     "data": {
      "text/plain": [
       "(12, 6, -12)"
      ]
     },
     "execution_count": 15,
     "metadata": {},
     "output_type": "execute_result"
    }
   ],
   "source": [
    "derivative_base_function(1), derivative_base_function(0), derivative_base_function(-3)"
   ]
  },
  {
   "attachments": {},
   "cell_type": "markdown",
   "metadata": {},
   "source": [
    "No podemos aproximar lo mismo numericamente?"
   ]
  },
  {
   "cell_type": "code",
   "execution_count": 28,
   "metadata": {},
   "outputs": [
    {
     "data": {
      "text/plain": [
       "8"
      ]
     },
     "execution_count": 28,
     "metadata": {},
     "output_type": "execute_result"
    }
   ],
   "source": [
    "x = 1\n",
    "\n",
    "base_function(x)"
   ]
  },
  {
   "cell_type": "code",
   "execution_count": 29,
   "metadata": {},
   "outputs": [
    {
     "data": {
      "text/plain": [
       "8.0001200003"
      ]
     },
     "execution_count": 29,
     "metadata": {},
     "output_type": "execute_result"
    }
   ],
   "source": [
    "h = 0.00001\n",
    "\n",
    "base_function(x + h)"
   ]
  },
  {
   "cell_type": "code",
   "execution_count": 32,
   "metadata": {},
   "outputs": [
    {
     "name": "stdout",
     "output_type": "stream",
     "text": [
      "The value of the derivative at 1 is: 12.000030000081095\n"
     ]
    }
   ],
   "source": [
    "derivative = (base_function(x + h) - base_function(x))/h\n",
    "\n",
    "print(f'The value of the derivative at {x} is:', derivative)"
   ]
  },
  {
   "cell_type": "code",
   "execution_count": 6,
   "metadata": {},
   "outputs": [],
   "source": [
    "x_values = np.array([value for value in range(-50, 60, 10)])\n",
    "y_values = 3 * x_values ** 2 - 2 * x_values - 1"
   ]
  },
  {
   "cell_type": "code",
   "execution_count": 7,
   "metadata": {},
   "outputs": [
    {
     "data": {
      "text/plain": [
       "array([-50, -40, -30, -20, -10,   0,  10,  20,  30,  40,  50])"
      ]
     },
     "execution_count": 7,
     "metadata": {},
     "output_type": "execute_result"
    }
   ],
   "source": [
    "x_values"
   ]
  },
  {
   "cell_type": "code",
   "execution_count": 8,
   "metadata": {},
   "outputs": [
    {
     "data": {
      "text/plain": [
       "array([7599, 4879, 2759, 1239,  319,   -1,  279, 1159, 2639, 4719, 7399])"
      ]
     },
     "execution_count": 8,
     "metadata": {},
     "output_type": "execute_result"
    }
   ],
   "source": [
    "y_values"
   ]
  },
  {
   "attachments": {},
   "cell_type": "markdown",
   "metadata": {},
   "source": [
    "This equation is read in the following way: The derivative of the function f with respect to the variable x is the limit of the ratio between the difference of the function evaluated at x + h and the function evaluated at x, normalized by the increment \"h\", when \"h\" tends to zero."
   ]
  },
  {
   "cell_type": "code",
   "execution_count": 3,
   "metadata": {},
   "outputs": [],
   "source": [
    "x = 1 \n",
    "h=0.1\n",
    "\n",
    "def test_parabola(x: float or np.array) -> float or np.array:\n",
    "    \"\"\"Function that builds a test parabola of X**2 + 1\n",
    "\n",
    "    :param x: Input to pass to the function. Can be a scalar or a numpy array.\n",
    "    :type x: float or np.array\n",
    "    :return: The output of squaring the input and adding 1.\n",
    "    :rtype: float or np.array\n",
    "    \"\"\"\n",
    "    return x**2 + 1\n",
    "\n",
    "x_values = np.arange(-2, 2.25, 0.25)\n",
    "y_values_parabola = test_parabola(x_values)\n",
    "\n",
    "data_parabola = [[x_val, y_val] for x_val, y_val in zip(x_values, y_values_parabola)]\n",
    "\n",
    "inputs = np.array([x-10, x, x+h, x+10])\n",
    "output = test_parabola(inputs)\n",
    "\n",
    "data_derivative = [[x_val, y_val] for x_val, y_val in zip(inputs, output)]"
   ]
  },
  {
   "cell_type": "code",
   "execution_count": 4,
   "metadata": {},
   "outputs": [
    {
     "data": {
      "text/plain": [
       "[[-2.0, 5.0],\n",
       " [-1.75, 4.0625],\n",
       " [-1.5, 3.25],\n",
       " [-1.25, 2.5625],\n",
       " [-1.0, 2.0],\n",
       " [-0.75, 1.5625],\n",
       " [-0.5, 1.25],\n",
       " [-0.25, 1.0625],\n",
       " [0.0, 1.0],\n",
       " [0.25, 1.0625],\n",
       " [0.5, 1.25],\n",
       " [0.75, 1.5625],\n",
       " [1.0, 2.0],\n",
       " [1.25, 2.5625],\n",
       " [1.5, 3.25],\n",
       " [1.75, 4.0625],\n",
       " [2.0, 5.0]]"
      ]
     },
     "execution_count": 4,
     "metadata": {},
     "output_type": "execute_result"
    }
   ],
   "source": [
    "data_parabola"
   ]
  },
  {
   "cell_type": "code",
   "execution_count": 5,
   "metadata": {},
   "outputs": [
    {
     "data": {
      "text/plain": [
       "[[-9.0, 82.0], [1.0, 2.0], [1.1, 2.21], [11.0, 122.0]]"
      ]
     },
     "execution_count": 5,
     "metadata": {},
     "output_type": "execute_result"
    }
   ],
   "source": [
    "data_derivative"
   ]
  },
  {
   "attachments": {},
   "cell_type": "markdown",
   "metadata": {},
   "source": [
    "Now, notice that this definition is independent of any function we use. As long as the limit exists and is unique, we will say the function has a derivative. The way we would solve this mathematically is by calculating the limit in the definition of a derivative at a point of interest (x). The problem with this is that it is not always trivial to calculate that limit. Let's show a simple example to understand why even in a simple example this is not trivial."
   ]
  },
  {
   "cell_type": "code",
   "execution_count": 2,
   "metadata": {},
   "outputs": [
    {
     "data": {
      "text/plain": [
       "'holaquetal'"
      ]
     },
     "execution_count": 2,
     "metadata": {},
     "output_type": "execute_result"
    }
   ],
   "source": [
    "''.join(filter(str.isalnum, ))"
   ]
  },
  {
   "cell_type": "code",
   "execution_count": 4,
   "metadata": {},
   "outputs": [
    {
     "data": {
      "text/plain": [
       "'hola-que-tal'"
      ]
     },
     "execution_count": 4,
     "metadata": {},
     "output_type": "execute_result"
    }
   ],
   "source": [
    "test = 'hola que tal'\n",
    "\n",
    "interm = test.split(' ')\n",
    "\n",
    "'-'.join([''.join(filter(str.isalnum, word)) for word in interm])"
   ]
  },
  {
   "cell_type": "code",
   "execution_count": null,
   "metadata": {},
   "outputs": [],
   "source": []
  }
 ],
 "metadata": {
  "kernelspec": {
   "display_name": "Python 3.9.7 ('tt_env')",
   "language": "python",
   "name": "python3"
  },
  "language_info": {
   "codemirror_mode": {
    "name": "ipython",
    "version": 3
   },
   "file_extension": ".py",
   "mimetype": "text/x-python",
   "name": "python",
   "nbconvert_exporter": "python",
   "pygments_lexer": "ipython3",
   "version": "3.9.7"
  },
  "orig_nbformat": 4,
  "vscode": {
   "interpreter": {
    "hash": "12af1d4841b248e38afce5d7e2c06dbe39c5b4517415690bcc02b09f369ca4d6"
   }
  }
 },
 "nbformat": 4,
 "nbformat_minor": 2
}
